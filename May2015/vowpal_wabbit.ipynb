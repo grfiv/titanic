{
 "cells": [
  {
   "cell_type": "markdown",
   "metadata": {},
   "source": [
    "http://mlwave.com/tutorial-titanic-machine-learning-from-distaster/"
   ]
  },
  {
   "cell_type": "code",
   "execution_count": 12,
   "metadata": {
    "collapsed": false
   },
   "outputs": [
    {
     "name": "stdout",
     "output_type": "stream",
     "text": [
      "['PassengerId', 'Survived', 'Pclass', 'Sex', 'Age', 'SibSp', 'Parch', 'Fare', 'Embarked', 'last_name', 'title', 'Fare2', 'FamilySize', 'Farepp', 'Deck', 'Side']\n",
      "['1', '0', 'ThirdClass', 'male', '22', '1', '0', '7.25', 'S', 'Braund', 'Mr', '[  0, 10)', '2', '3.625', 'UNK', 'UNK']\n"
     ]
    }
   ],
   "source": [
    "i = 0\n",
    "def clean(s):\n",
    "  return \" \".join(re.findall(r'\\w+', s,flags = re.UNICODE | re.LOCALE)).lower()\n",
    "with open(\"train_titanic.csv\", \"r\") as infile:\n",
    "  reader = csv.reader(infile)\n",
    "  for line in reader:\n",
    "        print line\n",
    "        i += 1\n",
    "        if (i == 2): break"
   ]
  },
  {
   "cell_type": "code",
   "execution_count": 13,
   "metadata": {
    "collapsed": false
   },
   "outputs": [
    {
     "name": "stdout",
     "output_type": "stream",
     "text": [
      "['PassengerId', 'Pclass', 'Sex', 'Age', 'SibSp', 'Parch', 'Fare', 'Embarked', 'last_name', 'title', 'Fare2', 'FamilySize', 'Farepp', 'Deck', 'Side']\n",
      "['892', 'ThirdClass', 'male', '34.5', '0', '0', '7.8292', 'Q', 'Kelly', 'Mr', '[  0, 10)', '1', '7.8292', 'UNK', 'UNK']\n"
     ]
    }
   ],
   "source": [
    "i = 0\n",
    "def clean(s):\n",
    "  return \" \".join(re.findall(r'\\w+', s,flags = re.UNICODE | re.LOCALE)).lower()\n",
    "with open(\"test_titanic.csv\", \"r\") as infile:\n",
    "  reader = csv.reader(infile)\n",
    "  for line in reader:\n",
    "        print line\n",
    "        i += 1\n",
    "        if (i == 2): break"
   ]
  },
  {
   "cell_type": "markdown",
   "metadata": {},
   "source": [
    "#Convert to VOWPAL WABBIT format"
   ]
  },
  {
   "cell_type": "code",
   "execution_count": 14,
   "metadata": {
    "collapsed": true
   },
   "outputs": [],
   "source": [
    "import csv\n",
    "import re\n",
    "i = 0\n",
    "def clean(s):\n",
    "  return \" \".join(re.findall(r'\\w+', s,flags = re.UNICODE | re.LOCALE)).lower()\n",
    "with open(\"train_titanic.csv\", \"r\") as infile, open(\"train_titanic.vw\", \"wb\") as outfile:\n",
    "  reader = csv.reader(infile)\n",
    "  for line in reader:\n",
    "    i+= 1\n",
    "    if i > 1:\n",
    "      vw_line = \"\"\n",
    "      if str(line[1]) == \"1\":\n",
    "        vw_line += \"1 '\"\n",
    "      else:\n",
    "        vw_line += \"-1 '\"\n",
    "        \n",
    "      vw_line += str(line[0]) + \" |f \"\n",
    "    \n",
    "      vw_line += \"passenger_class_\" + str(line[2]) + \" \"\n",
    "      vw_line += \"sex_\"             + str(line[3]) + \" \"\n",
    "      vw_line += \"age:\"             + str(line[4]) + \" \"\n",
    "      vw_line += \"sibsp:\"           + str(line[5]) + \" \"\n",
    "      vw_line += \"parch:\"           + str(line[6]) + \" \"\n",
    "      vw_line += \"fare:\"            + str(line[7]) + \" \"\n",
    "      vw_line += \"embarked_\"        + str(line[8]) + \" \"\n",
    "      vw_line += \"last_name_\"       + str(line[9]) + \" \"\n",
    "      vw_line += \"title_\"           + str(line[10]) + \" \"\n",
    "      vw_line += \"fare2_\"           + str(line[11]) + \" \"\n",
    "      vw_line += \"familysize:\"      + str(line[12]) + \" \"\n",
    "      vw_line += \"farepp:\"          + str(line[13]) + \" \"\n",
    "      vw_line += \"deck_\"            + str(line[14]) + \" \"\n",
    "      vw_line += \"side_\"            + str(line[15]) + \" \"\n",
    "\n",
    "      outfile.write(vw_line[:-1] + \"\\n\")\n",
    "i = 0\n",
    "with open(\"test_titanic.csv\", \"r\") as infile, open(\"test_titanic.vw\", \"wb\") as outfile:\n",
    "  reader = csv.reader(infile)\n",
    "  for line in reader:\n",
    "    i+= 1\n",
    "    if i > 1:\n",
    "      vw_line = \"\"\n",
    "      vw_line += \"1 '\"\n",
    "      vw_line += str(line[0]) + \" |f \"\n",
    "    \n",
    "      vw_line += \"passenger_class_\" + str(line[1]) + \" \"\n",
    "      vw_line += \"sex_\"             + str(line[2]) + \" \"\n",
    "      vw_line += \"age:\"             + str(line[3]) + \" \"\n",
    "      vw_line += \"sibsp:\"           + str(line[4]) + \" \"\n",
    "      vw_line += \"parch:\"           + str(line[5]) + \" \"\n",
    "      vw_line += \"fare:\"            + str(line[6]) + \" \"\n",
    "      vw_line += \"embarked_\"        + str(line[7]) + \" \"\n",
    "      vw_line += \"last_name_\"       + str(line[8]) + \" \"\n",
    "      vw_line += \"title_\"           + str(line[9]) + \" \"\n",
    "      vw_line += \"fare2_\"           + str(line[10]) + \" \"\n",
    "      vw_line += \"familysize:\"      + str(line[11]) + \" \"\n",
    "      vw_line += \"farepp:\"          + str(line[12]) + \" \"\n",
    "      vw_line += \"deck_\"            + str(line[13]) + \" \"\n",
    "      vw_line += \"side_\"            + str(line[14]) + \" \"\n",
    "    \n",
    "      outfile.write(vw_line[:-1] + \"\\n\")"
   ]
  },
  {
   "cell_type": "markdown",
   "metadata": {},
   "source": [
    "#Create a model"
   ]
  },
  {
   "cell_type": "markdown",
   "metadata": {},
   "source": [
    "vw train_titanic.vw -f model.vw --binary --passes 20 -c -q ff --adaptive --normalized --l1 0.00000001 --l2 0.0000001 -b 24"
   ]
  },
  {
   "cell_type": "markdown",
   "metadata": {},
   "source": [
    "#Predict"
   ]
  },
  {
   "cell_type": "markdown",
   "metadata": {},
   "source": [
    "vw -d test_titanic.vw -t -i model.vw -p preds_titanic.txt"
   ]
  },
  {
   "cell_type": "markdown",
   "metadata": {},
   "source": [
    "#Create kaggle submission file"
   ]
  },
  {
   "cell_type": "code",
   "execution_count": 19,
   "metadata": {
    "collapsed": true
   },
   "outputs": [],
   "source": [
    "import csv\n",
    "with open(\"preds_titanic.txt\", \"r\") as infile, open(\"submission_vw.csv\", \"wb\") as outfile:\n",
    "  outfile.write(\"PassengerId,Survived\\n\")\n",
    "  for line in infile.readlines():\n",
    "    kaggle_line = str(line.split(\" \")[1]).replace(\"\\n\",\"\")\n",
    "    if str(int(float(line.split(\" \")[0]))) == \"1\":\n",
    "      kaggle_line += \",1\\n\"\n",
    "    else:\n",
    "      kaggle_line += \",0\\n\"\n",
    "    outfile.write(kaggle_line)"
   ]
  },
  {
   "cell_type": "code",
   "execution_count": 18,
   "metadata": {
    "collapsed": false
   },
   "outputs": [
    {
     "name": "stdout",
     "output_type": "stream",
     "text": [
      "892\n",
      "-0.989157\n",
      "0\n",
      "\n",
      "893\n",
      "-0.15911\n",
      "0\n",
      "\n",
      "894\n",
      "-1.0\n",
      "-1\n",
      "\n",
      "895\n",
      "-0.988855\n",
      "0\n",
      "\n",
      "896\n",
      "-0.272279\n",
      "0\n",
      "\n",
      "897\n",
      "-0.869587\n",
      "0\n",
      "\n"
     ]
    }
   ],
   "source": [
    "i=0\n",
    "with open(\"preds_titanic.txt\", \"r\") as infile:\n",
    "    for line in infile.readlines():\n",
    "        print str(line.split(\" \")[1]).replace(\"\\n\",\"\")\n",
    "        print str(float(line.split(\" \")[0]))\n",
    "        print str(int(float(line.split(\" \")[0])))\n",
    "        \n",
    "        print \n",
    "        i+=1\n",
    "        if i>5: break"
   ]
  },
  {
   "cell_type": "code",
   "execution_count": null,
   "metadata": {
    "collapsed": true
   },
   "outputs": [],
   "source": []
  }
 ],
 "metadata": {
  "kernelspec": {
   "display_name": "Python 2",
   "language": "python",
   "name": "python2"
  },
  "language_info": {
   "codemirror_mode": {
    "name": "ipython",
    "version": 2
   },
   "file_extension": ".py",
   "mimetype": "text/x-python",
   "name": "python",
   "nbconvert_exporter": "python",
   "pygments_lexer": "ipython2",
   "version": "2.7.9"
  }
 },
 "nbformat": 4,
 "nbformat_minor": 0
}
